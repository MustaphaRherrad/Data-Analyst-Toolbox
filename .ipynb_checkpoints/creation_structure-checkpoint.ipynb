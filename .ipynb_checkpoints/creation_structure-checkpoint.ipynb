{
 "cells": [
  {
   "cell_type": "code",
   "execution_count": 4,
   "id": "91935c5f-f094-4c45-91d7-909ab01a13ce",
   "metadata": {},
   "outputs": [
    {
     "name": "stdout",
     "output_type": "stream",
     "text": [
      "✅ Tous les fichiers Markdown ont été créés avec succès !\n"
     ]
    }
   ],
   "source": [
    "import os\n",
    "\n",
    "# Définition du chemin de base\n",
    "base_dir = r\"c:/Code/Projets_perso/projets/Data-Analyst-Toolbox\"\n",
    "os.makedirs(base_dir, exist_ok=True)\n",
    "\n",
    "# Structure complète des dossiers et fichiers Markdown\n",
    "structure = {\n",
    "    \"01_Fondamentaux\": [\"Introduction.md\", \"Définition_du_Data_Analyst.md\", \"Cycle_de_vie_des_données.md\"],\n",
    "    \"01_Fondamentaux/Formats_de_données\": [\"CSV_et_TXT.md\", \"JSON_et_XML.md\", \"Parquet_et_Avro.md\"],\n",
    "    \n",
    "    \"02_Statistiques_et_Probabilités\": [\"Statistiques_descriptives.md\", \"Tests_statistiques.md\", \"Probabilités_et_distributions.md\"],\n",
    "    \"02_Statistiques_et_Probabilités/Modélisation_statistique\": [\"Régression_linéraire.md\", \"Analyse_de_variance_ANOVA.md\", \"Séries_temporelles.md\"],\n",
    "    \n",
    "    \"03_Manipulation_de_données\": [\"Nettoyage_des_données.md\", \"Manipulation_avec_Pandas.md\", \"Agrégation_de_données.md\"],\n",
    "    \"03_Manipulation_de_données/Prétraitement_et_nettoyage\": [\"Détection_des_outliers.md\", \"Traitement_des_valeurs_manquantes.md\", \"Normalisation_et_standardisation.md\"],\n",
    "    \"03_Manipulation_de_données/Manipulation_avec_outils\": [\"Pandas.md\", \"NumPy.md\", \"Spark_PySpark.md\"],\n",
    "    \n",
    "    \"04_Visualisation_de_données\": [\"Principes_de_visualisation.md\", \"Matplotlib_et_Seaborn.md\", \"Graphiques_interactifs_Plotly.md\"],\n",
    "    \"04_Visualisation_de_données/Outils_de_visualisation\": [\"Tableau_et_PowerBI.md\"],\n",
    "    \"04_Visualisation_de_données/Principes_de_design\": [\"Data_Storytelling.md\", \"Bonnes_pratiques.md\"],\n",
    "    \n",
    "    \"05_Machine_Learning\": [\"Introduction_au_ML.md\", \"Évaluation_des_modèles.md\"],\n",
    "    \"05_Machine_Learning/Modèles_supervisés\": [\"Classification.md\", \"Régression.md\"],\n",
    "    \"05_Machine_Learning/Modèles_non_supervisés\": [\"Clustering.md\", \"Réduction_de_dimension.md\"],\n",
    "    \n",
    "    \"06_Bases_de_données\": [\"SQL_pour_data_analyst.md\", \"Bases_de_données_NoSQL.md\"],\n",
    "    \"06_Bases_de_données/SQL\": [\"Requêtes_avancées.md\"],\n",
    "    \"06_Bases_de_données/NoSQL\": [\"MongoDB.md\", \"Cassandra.md\"],\n",
    "    \n",
    "    \"07_Streaming_de_données\": [\"Principes_du_streaming.md\", \"Spark_et_PySpark.md\", \"Kafka_pour_data_analyst.md\", \"Traitement_en_temps_réel.md\"],\n",
    "    \n",
    "    \"08_Business_Intelligence\": [\"Concepts_de_BI.md\", \"KPI_et_indicateurs.md\", \"Reporting_automatisé.md\", \"Cas_pratique.md\"],\n",
    "    \n",
    "    \"09_Automatisation_et_Outils_IA\": [\"Introduction_aux_Outils_IA.md\"],\n",
    "    \"09_Automatisation_et_Outils_IA/Automatisation_des_tâches\": [\"Zapier.md\", \"Make_et_Airflow.md\", \"SuperAgent.md\"],\n",
    "    \n",
    "    \"10_Bonnes_pratiques_et_Ressources\": [\"Documentation_et_versioning.md\", \"Workflow_de_projet.md\", \"Outils_essentiels.md\", \"Livres_et_tutoriels_recommandés.md\"]\n",
    "}\n",
    "\n",
    "# Création des dossiers et fichiers Markdown\n",
    "for folder, files in structure.items():\n",
    "    folder_path = os.path.join(base_dir, folder)\n",
    "    os.makedirs(folder_path, exist_ok=True)\n",
    "    for file in files:\n",
    "        file_path = os.path.join(folder_path, file)\n",
    "        with open(file_path, \"w\", encoding=\"utf-8\") as f:\n",
    "            f.write(f\"# {file}\\n\\n## Introduction\\n\\nÀ compléter...\")  # Ajout d'un modèle de fichier\n",
    "\n",
    "print(\"✅ Tous les fichiers Markdown ont été créés avec succès !\")\n",
    "\n"
   ]
  }
 ],
 "metadata": {
  "kernelspec": {
   "display_name": "Python 3 (ipykernel)",
   "language": "python",
   "name": "python3"
  },
  "language_info": {
   "codemirror_mode": {
    "name": "ipython",
    "version": 3
   },
   "file_extension": ".py",
   "mimetype": "text/x-python",
   "name": "python",
   "nbconvert_exporter": "python",
   "pygments_lexer": "ipython3",
   "version": "3.12.7"
  }
 },
 "nbformat": 4,
 "nbformat_minor": 5
}
